{
 "cells": [
  {
   "cell_type": "markdown",
   "id": "c6d600ba-0224-4c9b-83b8-82d29cae6abc",
   "metadata": {},
   "source": [
    "# Data Science Ecosystem"
   ]
  },
  {
   "cell_type": "markdown",
   "id": "87f1f5fa-c187-43fb-ba50-93c5392987ea",
   "metadata": {},
   "source": [
    "In this notebook, Data Science Tools and Ecosystem are summarized."
   ]
  },
  {
   "cell_type": "markdown",
   "id": "dde20d11-0340-4208-a4e8-bc32bc361d11",
   "metadata": {},
   "source": [
    "Some of the popular languages that Data Scientists use are:\n",
    "\n",
    "1. Python\n",
    "2. R\n",
    "3. Julia\n",
    "4. Java\n",
    "5. Scala\n",
    "6. JavaScript\n",
    "7. SQL"
   ]
  },
  {
   "cell_type": "markdown",
   "id": "39ba3210-f245-4554-821d-049933fdc174",
   "metadata": {},
   "source": [
    "Some of the commonly used libraries used by Data Scientists include:\n",
    "\n",
    "1. Pandas\n",
    "2. Numpy\n",
    "3. Tensorflow\n",
    "4. Scikit-learn\n",
    "5. ggplot2"
   ]
  },
  {
   "cell_type": "markdown",
   "id": "2695840d-1a06-4492-bace-f8ec956fa65f",
   "metadata": {},
   "source": [
    "|Data Science Tools|\n",
    "|--------|\n",
    "| Jupyter Notebooks|\n",
    "|R Studio|\n",
    "|Spyder|\n"
   ]
  },
  {
   "cell_type": "markdown",
   "id": "8a7b61f4-3e19-43b1-8f61-9ebf76f80230",
   "metadata": {},
   "source": [
    "### Below are a few examples of evaluating arithmetic expressions in Python"
   ]
  },
  {
   "cell_type": "code",
   "execution_count": 3,
   "id": "2de460f3-c204-4add-86c8-1a346dd6e28b",
   "metadata": {},
   "outputs": [
    {
     "data": {
      "text/plain": [
       "17"
      ]
     },
     "execution_count": 3,
     "metadata": {},
     "output_type": "execute_result"
    }
   ],
   "source": [
    "# This is a simple arithmetic expression to multiply and then add integers\n",
    "(3*4)+5\n"
   ]
  },
  {
   "cell_type": "code",
   "execution_count": 6,
   "id": "5a23f9e6-4a64-4571-a5aa-466777a5c181",
   "metadata": {},
   "outputs": [
    {
     "data": {
      "text/plain": [
       "3.3333333333333335"
      ]
     },
     "execution_count": 6,
     "metadata": {},
     "output_type": "execute_result"
    }
   ],
   "source": [
    "# This code converts 200 minutes to hours by dividing by 60\n",
    "200/60"
   ]
  },
  {
   "cell_type": "markdown",
   "id": "1e04aa1f-b560-4b23-8ef7-c767f0c76c50",
   "metadata": {},
   "source": [
    "**Objectives:**\n",
    "* List Popular Languages for Data Science\n",
    "* List Popular Libraries for Data Science\n",
    "* List Some Popular Data Science Tools/ Development Environments\n",
    "* Demonstrate arithmetic expressions and adding comments"
   ]
  },
  {
   "cell_type": "markdown",
   "id": "bd3c5061-d199-4ca8-99bd-1e5f9ead2dce",
   "metadata": {},
   "source": [
    "## Author\n",
    "Eric N"
   ]
  },
  {
   "cell_type": "code",
   "execution_count": null,
   "id": "7a11b634-ba48-4aef-873d-cbb25b6b71c8",
   "metadata": {},
   "outputs": [],
   "source": []
  }
 ],
 "metadata": {
  "kernelspec": {
   "display_name": "Python",
   "language": "python",
   "name": "conda-env-python-py"
  },
  "language_info": {
   "codemirror_mode": {
    "name": "ipython",
    "version": 3
   },
   "file_extension": ".py",
   "mimetype": "text/x-python",
   "name": "python",
   "nbconvert_exporter": "python",
   "pygments_lexer": "ipython3",
   "version": "3.7.12"
  }
 },
 "nbformat": 4,
 "nbformat_minor": 5
}
